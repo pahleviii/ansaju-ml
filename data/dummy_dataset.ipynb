{
  "nbformat": 4,
  "nbformat_minor": 0,
  "metadata": {
    "colab": {
      "provenance": []
    },
    "kernelspec": {
      "name": "python3",
      "display_name": "Python 3"
    },
    "language_info": {
      "name": "python"
    }
  },
  "cells": [
    {
      "cell_type": "code",
      "source": [
        "import pandas as pd\n",
        "import numpy as np\n",
        "\n",
        "# Mapping minat khas untuk tiap jurusan (nilai dominan untuk setiap Q1–Q12)\n",
        "bias_map = {\n",
        "    \"Teknik Informatika\":     [5, 4, 2, 2, 3, 5, 4, 2, 3, 4, 3, 2],\n",
        "    \"Sistem Informasi\":       [4, 4, 3, 3, 4, 4, 3, 3, 4, 3, 3, 3],\n",
        "    \"Statistika\":             [4, 5, 3, 2, 3, 4, 2, 2, 5, 2, 4, 3],\n",
        "    \"Arsitektur\":             [2, 3, 5, 4, 4, 2, 3, 5, 3, 4, 5, 5],\n",
        "    \"Psikologi\":              [3, 2, 4, 5, 5, 3, 5, 2, 2, 5, 4, 5],\n",
        "    \"Akuntansi\":              [4, 5, 2, 2, 3, 4, 2, 2, 5, 3, 5, 3],\n",
        "    \"Kedokteran\":             [3, 3, 5, 4, 5, 5, 5, 4, 3, 2, 4, 5],\n",
        "    \"Teknik Elektro\":         [5, 5, 2, 3, 2, 5, 3, 5, 4, 3, 2, 3],\n",
        "    \"Hukum\":                  [4, 3, 3, 4, 5, 3, 3, 2, 3, 5, 4, 4],\n",
        "    \"Ilmu Komunikasi\":        [3, 2, 3, 5, 4, 3, 5, 2, 2, 5, 3, 4],\n",
        "    \"Manajemen\":              [4, 4, 3, 3, 4, 4, 3, 3, 4, 3, 4, 3],\n",
        "    \"DKV\":                    [2, 2, 5, 4, 3, 3, 2, 5, 2, 4, 5, 5],\n",
        "    \"Pendidikan Guru SD\":     [3, 3, 4, 4, 5, 4, 4, 2, 3, 3, 4, 5],\n",
        "    \"Perhotelan\":             [3, 2, 3, 4, 5, 4, 3, 2, 3, 4, 4, 4],\n",
        "    \"Hubungan Internasional\": [4, 3, 3, 5, 4, 4, 5, 2, 3, 5, 4, 5]\n",
        "}\n",
        "\n",
        "\n",
        "# Inisialisasi\n",
        "samples_per_jurusan = 30\n",
        "n_questions = 12\n",
        "rows = []\n",
        "np.random.seed(42)\n",
        "\n",
        "for jurusan, base_scores in bias_map.items():\n",
        "    for _ in range(samples_per_jurusan):\n",
        "        noise = np.random.randint(-1, 2, size=n_questions)\n",
        "        jawaban = np.clip(np.array(base_scores) + noise, 1, 5)\n",
        "        rows.append(list(jawaban) + [jurusan])\n",
        "\n",
        "columns = [f\"Q{i}\" for i in range(1, n_questions + 1)] + [\"jurusan\"]\n",
        "df = pd.DataFrame(rows, columns=columns)\n",
        "df = df.sample(frac=1, random_state=42).reset_index(drop=True)\n",
        "df.to_csv(\"dataset_dummy.csv\", index=False)"
      ],
      "metadata": {
        "id": "6y-9nZ1db4JU"
      },
      "execution_count": 2,
      "outputs": []
    }
  ]
}